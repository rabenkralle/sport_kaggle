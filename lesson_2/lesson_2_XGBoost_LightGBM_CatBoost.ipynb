{
 "cells": [
  {
   "cell_type": "code",
   "execution_count": 1,
   "id": "0e9b2c0b",
   "metadata": {},
   "outputs": [
    {
     "name": "stderr",
     "output_type": "stream",
     "text": [
      "/home/rush/anaconda3/envs/ds/lib/python3.10/site-packages/xgboost/compat.py:36: FutureWarning: pandas.Int64Index is deprecated and will be removed from pandas in a future version. Use pandas.Index with the appropriate dtype instead.\n",
      "  from pandas import MultiIndex, Int64Index\n"
     ]
    }
   ],
   "source": [
    "import warnings\n",
    "import catboost as cb\n",
    "import numpy as np\n",
    "import pandas as pd\n",
    "import xgboost as xgb\n",
    "import lightgbm as lgb\n",
    "import matplotlib.pyplot as plt\n",
    "\n",
    "from sklearn.model_selection import train_test_split\n",
    "from sklearn.metrics import roc_auc_score\n",
    "from sklearn.metrics import roc_curve\n",
    "warnings.simplefilter(\"ignore\")"
   ]
  },
  {
   "cell_type": "code",
   "execution_count": 2,
   "id": "4cbf3246",
   "metadata": {},
   "outputs": [
    {
     "name": "stdout",
     "output_type": "stream",
     "text": [
      "train.shape = 180000 rows, 394 cols\n"
     ]
    },
    {
     "data": {
      "text/html": [
       "<div>\n",
       "<style scoped>\n",
       "    .dataframe tbody tr th:only-of-type {\n",
       "        vertical-align: middle;\n",
       "    }\n",
       "\n",
       "    .dataframe tbody tr th {\n",
       "        vertical-align: top;\n",
       "    }\n",
       "\n",
       "    .dataframe thead th {\n",
       "        text-align: right;\n",
       "    }\n",
       "</style>\n",
       "<table border=\"1\" class=\"dataframe\">\n",
       "  <thead>\n",
       "    <tr style=\"text-align: right;\">\n",
       "      <th></th>\n",
       "      <th>TransactionID</th>\n",
       "      <th>isFraud</th>\n",
       "      <th>TransactionDT</th>\n",
       "      <th>TransactionAmt</th>\n",
       "      <th>ProductCD</th>\n",
       "      <th>card1</th>\n",
       "      <th>card2</th>\n",
       "      <th>card3</th>\n",
       "      <th>card4</th>\n",
       "      <th>card5</th>\n",
       "      <th>...</th>\n",
       "      <th>V330</th>\n",
       "      <th>V331</th>\n",
       "      <th>V332</th>\n",
       "      <th>V333</th>\n",
       "      <th>V334</th>\n",
       "      <th>V335</th>\n",
       "      <th>V336</th>\n",
       "      <th>V337</th>\n",
       "      <th>V338</th>\n",
       "      <th>V339</th>\n",
       "    </tr>\n",
       "  </thead>\n",
       "  <tbody>\n",
       "    <tr>\n",
       "      <th>0</th>\n",
       "      <td>2987000</td>\n",
       "      <td>0</td>\n",
       "      <td>86400</td>\n",
       "      <td>68.5</td>\n",
       "      <td>W</td>\n",
       "      <td>13926</td>\n",
       "      <td>NaN</td>\n",
       "      <td>150.0</td>\n",
       "      <td>discover</td>\n",
       "      <td>142.0</td>\n",
       "      <td>...</td>\n",
       "      <td>NaN</td>\n",
       "      <td>NaN</td>\n",
       "      <td>NaN</td>\n",
       "      <td>NaN</td>\n",
       "      <td>NaN</td>\n",
       "      <td>NaN</td>\n",
       "      <td>NaN</td>\n",
       "      <td>NaN</td>\n",
       "      <td>NaN</td>\n",
       "      <td>NaN</td>\n",
       "    </tr>\n",
       "    <tr>\n",
       "      <th>1</th>\n",
       "      <td>2987001</td>\n",
       "      <td>0</td>\n",
       "      <td>86401</td>\n",
       "      <td>29.0</td>\n",
       "      <td>W</td>\n",
       "      <td>2755</td>\n",
       "      <td>404.0</td>\n",
       "      <td>150.0</td>\n",
       "      <td>mastercard</td>\n",
       "      <td>102.0</td>\n",
       "      <td>...</td>\n",
       "      <td>NaN</td>\n",
       "      <td>NaN</td>\n",
       "      <td>NaN</td>\n",
       "      <td>NaN</td>\n",
       "      <td>NaN</td>\n",
       "      <td>NaN</td>\n",
       "      <td>NaN</td>\n",
       "      <td>NaN</td>\n",
       "      <td>NaN</td>\n",
       "      <td>NaN</td>\n",
       "    </tr>\n",
       "  </tbody>\n",
       "</table>\n",
       "<p>2 rows × 394 columns</p>\n",
       "</div>"
      ],
      "text/plain": [
       "   TransactionID  isFraud  TransactionDT  TransactionAmt ProductCD  card1  \\\n",
       "0        2987000        0          86400            68.5         W  13926   \n",
       "1        2987001        0          86401            29.0         W   2755   \n",
       "\n",
       "   card2  card3       card4  card5  ... V330  V331  V332  V333  V334 V335  \\\n",
       "0    NaN  150.0    discover  142.0  ...  NaN   NaN   NaN   NaN   NaN  NaN   \n",
       "1  404.0  150.0  mastercard  102.0  ...  NaN   NaN   NaN   NaN   NaN  NaN   \n",
       "\n",
       "  V336  V337  V338  V339  \n",
       "0  NaN   NaN   NaN   NaN  \n",
       "1  NaN   NaN   NaN   NaN  \n",
       "\n",
       "[2 rows x 394 columns]"
      ]
     },
     "execution_count": 2,
     "metadata": {},
     "output_type": "execute_result"
    }
   ],
   "source": [
    "train = pd.read_csv(\n",
    "    \"assignment2_data/assignment_2_train.csv\"\n",
    ")\n",
    "print(\"train.shape = {} rows, {} cols\".format(*train.shape))\n",
    "train.head(n=2)"
   ]
  },
  {
   "cell_type": "code",
   "execution_count": 3,
   "id": "84474e60",
   "metadata": {},
   "outputs": [],
   "source": [
    "test = pd.read_csv(\n",
    "    \"assignment2_data/assignment_2_test.csv\"\n",
    ")"
   ]
  },
  {
   "cell_type": "code",
   "execution_count": 4,
   "id": "3baf9587",
   "metadata": {
    "scrolled": true
   },
   "outputs": [
    {
     "name": "stdout",
     "output_type": "stream",
     "text": [
      "test.shape = 100001 rows, 394 cols\n"
     ]
    },
    {
     "data": {
      "text/html": [
       "<div>\n",
       "<style scoped>\n",
       "    .dataframe tbody tr th:only-of-type {\n",
       "        vertical-align: middle;\n",
       "    }\n",
       "\n",
       "    .dataframe tbody tr th {\n",
       "        vertical-align: top;\n",
       "    }\n",
       "\n",
       "    .dataframe thead th {\n",
       "        text-align: right;\n",
       "    }\n",
       "</style>\n",
       "<table border=\"1\" class=\"dataframe\">\n",
       "  <thead>\n",
       "    <tr style=\"text-align: right;\">\n",
       "      <th></th>\n",
       "      <th>TransactionID</th>\n",
       "      <th>isFraud</th>\n",
       "      <th>TransactionDT</th>\n",
       "      <th>TransactionAmt</th>\n",
       "      <th>ProductCD</th>\n",
       "      <th>card1</th>\n",
       "      <th>card2</th>\n",
       "      <th>card3</th>\n",
       "      <th>card4</th>\n",
       "      <th>card5</th>\n",
       "      <th>...</th>\n",
       "      <th>V330</th>\n",
       "      <th>V331</th>\n",
       "      <th>V332</th>\n",
       "      <th>V333</th>\n",
       "      <th>V334</th>\n",
       "      <th>V335</th>\n",
       "      <th>V336</th>\n",
       "      <th>V337</th>\n",
       "      <th>V338</th>\n",
       "      <th>V339</th>\n",
       "    </tr>\n",
       "  </thead>\n",
       "  <tbody>\n",
       "    <tr>\n",
       "      <th>0</th>\n",
       "      <td>3287000</td>\n",
       "      <td>1</td>\n",
       "      <td>7415038</td>\n",
       "      <td>226.0</td>\n",
       "      <td>W</td>\n",
       "      <td>12473</td>\n",
       "      <td>555.0</td>\n",
       "      <td>150.0</td>\n",
       "      <td>visa</td>\n",
       "      <td>226.0</td>\n",
       "      <td>...</td>\n",
       "      <td>NaN</td>\n",
       "      <td>NaN</td>\n",
       "      <td>NaN</td>\n",
       "      <td>NaN</td>\n",
       "      <td>NaN</td>\n",
       "      <td>NaN</td>\n",
       "      <td>NaN</td>\n",
       "      <td>NaN</td>\n",
       "      <td>NaN</td>\n",
       "      <td>NaN</td>\n",
       "    </tr>\n",
       "    <tr>\n",
       "      <th>1</th>\n",
       "      <td>3287001</td>\n",
       "      <td>0</td>\n",
       "      <td>7415054</td>\n",
       "      <td>3072.0</td>\n",
       "      <td>W</td>\n",
       "      <td>15651</td>\n",
       "      <td>417.0</td>\n",
       "      <td>150.0</td>\n",
       "      <td>visa</td>\n",
       "      <td>226.0</td>\n",
       "      <td>...</td>\n",
       "      <td>NaN</td>\n",
       "      <td>NaN</td>\n",
       "      <td>NaN</td>\n",
       "      <td>NaN</td>\n",
       "      <td>NaN</td>\n",
       "      <td>NaN</td>\n",
       "      <td>NaN</td>\n",
       "      <td>NaN</td>\n",
       "      <td>NaN</td>\n",
       "      <td>NaN</td>\n",
       "    </tr>\n",
       "  </tbody>\n",
       "</table>\n",
       "<p>2 rows × 394 columns</p>\n",
       "</div>"
      ],
      "text/plain": [
       "   TransactionID  isFraud  TransactionDT  TransactionAmt ProductCD  card1  \\\n",
       "0        3287000        1        7415038           226.0         W  12473   \n",
       "1        3287001        0        7415054          3072.0         W  15651   \n",
       "\n",
       "   card2  card3 card4  card5  ... V330  V331  V332  V333  V334 V335 V336  \\\n",
       "0  555.0  150.0  visa  226.0  ...  NaN   NaN   NaN   NaN   NaN  NaN  NaN   \n",
       "1  417.0  150.0  visa  226.0  ...  NaN   NaN   NaN   NaN   NaN  NaN  NaN   \n",
       "\n",
       "   V337  V338  V339  \n",
       "0   NaN   NaN   NaN  \n",
       "1   NaN   NaN   NaN  \n",
       "\n",
       "[2 rows x 394 columns]"
      ]
     },
     "execution_count": 4,
     "metadata": {},
     "output_type": "execute_result"
    }
   ],
   "source": [
    "print(\"test.shape = {} rows, {} cols\".format(*test.shape))\n",
    "test.head(n=2)"
   ]
  },
  {
   "cell_type": "code",
   "execution_count": 4,
   "id": "e40be02c",
   "metadata": {},
   "outputs": [],
   "source": [
    "target = train['isFraud']"
   ]
  },
  {
   "cell_type": "code",
   "execution_count": 5,
   "id": "30d8484a",
   "metadata": {},
   "outputs": [],
   "source": [
    "train = train.drop(['isFraud', 'TransactionID'], axis=1)"
   ]
  },
  {
   "cell_type": "code",
   "execution_count": 6,
   "id": "85434183",
   "metadata": {},
   "outputs": [],
   "source": [
    "target_test = test['isFraud']\n",
    "test = test.drop(['isFraud', 'TransactionID'], axis=1)"
   ]
  },
  {
   "cell_type": "markdown",
   "id": "0322e43e",
   "metadata": {},
   "source": [
    "## Задание 1: отобрать только числовые признаки и обучить модель XGBoost с параметром booster = gbtree. Обучать алгоритм до тех пор, пока метрика качества не перестанет улучшаться на валидационной выборке в течение определенного числа итераций (выбрать значение самостоятельно)."
   ]
  },
  {
   "cell_type": "code",
   "execution_count": 7,
   "id": "67b7cf48",
   "metadata": {},
   "outputs": [
    {
     "name": "stdout",
     "output_type": "stream",
     "text": [
      "count of numeric_features 378\n"
     ]
    },
    {
     "data": {
      "text/plain": [
       "Index(['TransactionDT', 'TransactionAmt', 'card1', 'card2', 'card3', 'card5',\n",
       "       'addr1', 'addr2', 'dist1', 'dist2',\n",
       "       ...\n",
       "       'V330', 'V331', 'V332', 'V333', 'V334', 'V335', 'V336', 'V337', 'V338',\n",
       "       'V339'],\n",
       "      dtype='object', length=378)"
      ]
     },
     "execution_count": 7,
     "metadata": {},
     "output_type": "execute_result"
    }
   ],
   "source": [
    "numerical_features = train.select_dtypes(include=[np.number])\n",
    "print(f\"count of numeric_features {numerical_features.shape[1]}\")\n",
    "\n",
    "numerical_features.columns"
   ]
  },
  {
   "cell_type": "code",
   "execution_count": 8,
   "id": "cc2a4ddc",
   "metadata": {
    "scrolled": true
   },
   "outputs": [
    {
     "name": "stdout",
     "output_type": "stream",
     "text": [
      "count of numeric_features 378\n"
     ]
    },
    {
     "data": {
      "text/plain": [
       "Index(['TransactionDT', 'TransactionAmt', 'card1', 'card2', 'card3', 'card5',\n",
       "       'addr1', 'addr2', 'dist1', 'dist2',\n",
       "       ...\n",
       "       'V330', 'V331', 'V332', 'V333', 'V334', 'V335', 'V336', 'V337', 'V338',\n",
       "       'V339'],\n",
       "      dtype='object', length=378)"
      ]
     },
     "execution_count": 8,
     "metadata": {},
     "output_type": "execute_result"
    }
   ],
   "source": [
    "numerical_features_test = test.select_dtypes(include=[np.number])\n",
    "print(f\"count of numeric_features {numerical_features_test.shape[1]}\")\n",
    "\n",
    "numerical_features_test.columns"
   ]
  },
  {
   "cell_type": "code",
   "execution_count": 10,
   "id": "ada8e53b",
   "metadata": {},
   "outputs": [],
   "source": [
    "params = {\n",
    "    \"booster\": \"gbtree\",\n",
    "    \"objective\": \"binary:logistic\",\n",
    "    \"eval_metric\": \"auc\",\n",
    "    \"learning_rate\": 0.1,\n",
    "    \"n_estimators\": 1000,\n",
    "    \"reg_lambda\": 100,\n",
    "    \"max_depth\": 4,\n",
    "    \"gamma\": 10,\n",
    "    \"nthread\": 6,\n",
    "    \"seed\": 27\n",
    "}"
   ]
  },
  {
   "cell_type": "code",
   "execution_count": 12,
   "id": "5db4ae4f",
   "metadata": {},
   "outputs": [],
   "source": [
    "dtrain = xgb.DMatrix(\n",
    "    data=numerical_features, label=target\n",
    ")\n",
    "dvalid = xgb.DMatrix(\n",
    "    data=numerical_features_test, label=target_test\n",
    ")"
   ]
  },
  {
   "cell_type": "code",
   "execution_count": 13,
   "id": "7c523724",
   "metadata": {},
   "outputs": [
    {
     "name": "stdout",
     "output_type": "stream",
     "text": [
      "[15:40:15] WARNING: /home/conda/feedstock_root/build_artifacts/xgboost-split_1645117766796/work/src/learner.cc:576: \n",
      "Parameters: { \"n_estimators\" } might not be used.\n",
      "\n",
      "  This could be a false alarm, with some parameters getting used by language bindings but\n",
      "  then being mistakenly passed down to XGBoost core, or some parameter actually being used\n",
      "  but getting flagged wrongly here. Please open an issue if you find any such cases.\n",
      "\n",
      "\n",
      "[0]\ttrain-auc:0.64999\tvalid-auc:0.62240\n",
      "[50]\ttrain-auc:0.88294\tvalid-auc:0.85164\n",
      "[100]\ttrain-auc:0.90027\tvalid-auc:0.85608\n",
      "[150]\ttrain-auc:0.90812\tvalid-auc:0.85829\n",
      "[200]\ttrain-auc:0.91238\tvalid-auc:0.85986\n",
      "[233]\ttrain-auc:0.91238\tvalid-auc:0.85986\n"
     ]
    }
   ],
   "source": [
    "model_xgb_num = xgb.train(\n",
    "    params=params,\n",
    "    dtrain=dtrain,\n",
    "    num_boost_round=1000,\n",
    "    early_stopping_rounds=50,\n",
    "    evals=[(dtrain, \"train\"), (dvalid, \"valid\")],\n",
    "    verbose_eval=50,\n",
    "    maximize=True,\n",
    ")"
   ]
  },
  {
   "cell_type": "code",
   "execution_count": 14,
   "id": "4a559043",
   "metadata": {
    "scrolled": false
   },
   "outputs": [
    {
     "name": "stdout",
     "output_type": "stream",
     "text": [
      "[15:43:52] WARNING: /home/conda/feedstock_root/build_artifacts/xgboost-split_1645117766796/work/src/learner.cc:576: \n",
      "Parameters: { \"n_estimators\" } might not be used.\n",
      "\n",
      "  This could be a false alarm, with some parameters getting used by language bindings but\n",
      "  then being mistakenly passed down to XGBoost core, or some parameter actually being used\n",
      "  but getting flagged wrongly here. Please open an issue if you find any such cases.\n",
      "\n",
      "\n",
      "[15:43:55] WARNING: /home/conda/feedstock_root/build_artifacts/xgboost-split_1645117766796/work/src/learner.cc:576: \n",
      "Parameters: { \"n_estimators\" } might not be used.\n",
      "\n",
      "  This could be a false alarm, with some parameters getting used by language bindings but\n",
      "  then being mistakenly passed down to XGBoost core, or some parameter actually being used\n",
      "  but getting flagged wrongly here. Please open an issue if you find any such cases.\n",
      "\n",
      "\n",
      "[15:43:57] WARNING: /home/conda/feedstock_root/build_artifacts/xgboost-split_1645117766796/work/src/learner.cc:576: \n",
      "Parameters: { \"n_estimators\" } might not be used.\n",
      "\n",
      "  This could be a false alarm, with some parameters getting used by language bindings but\n",
      "  then being mistakenly passed down to XGBoost core, or some parameter actually being used\n",
      "  but getting flagged wrongly here. Please open an issue if you find any such cases.\n",
      "\n",
      "\n"
     ]
    },
    {
     "data": {
      "text/html": [
       "<div>\n",
       "<style scoped>\n",
       "    .dataframe tbody tr th:only-of-type {\n",
       "        vertical-align: middle;\n",
       "    }\n",
       "\n",
       "    .dataframe tbody tr th {\n",
       "        vertical-align: top;\n",
       "    }\n",
       "\n",
       "    .dataframe thead th {\n",
       "        text-align: right;\n",
       "    }\n",
       "</style>\n",
       "<table border=\"1\" class=\"dataframe\">\n",
       "  <thead>\n",
       "    <tr style=\"text-align: right;\">\n",
       "      <th></th>\n",
       "      <th>train-auc-mean</th>\n",
       "      <th>train-auc-std</th>\n",
       "      <th>test-auc-mean</th>\n",
       "      <th>test-auc-std</th>\n",
       "    </tr>\n",
       "  </thead>\n",
       "  <tbody>\n",
       "    <tr>\n",
       "      <th>195</th>\n",
       "      <td>0.907373</td>\n",
       "      <td>0.003608</td>\n",
       "      <td>0.895558</td>\n",
       "      <td>0.002848</td>\n",
       "    </tr>\n",
       "    <tr>\n",
       "      <th>196</th>\n",
       "      <td>0.907373</td>\n",
       "      <td>0.003608</td>\n",
       "      <td>0.895558</td>\n",
       "      <td>0.002848</td>\n",
       "    </tr>\n",
       "    <tr>\n",
       "      <th>197</th>\n",
       "      <td>0.907373</td>\n",
       "      <td>0.003608</td>\n",
       "      <td>0.895558</td>\n",
       "      <td>0.002848</td>\n",
       "    </tr>\n",
       "    <tr>\n",
       "      <th>198</th>\n",
       "      <td>0.907373</td>\n",
       "      <td>0.003608</td>\n",
       "      <td>0.895558</td>\n",
       "      <td>0.002848</td>\n",
       "    </tr>\n",
       "    <tr>\n",
       "      <th>199</th>\n",
       "      <td>0.907373</td>\n",
       "      <td>0.003608</td>\n",
       "      <td>0.895558</td>\n",
       "      <td>0.002848</td>\n",
       "    </tr>\n",
       "  </tbody>\n",
       "</table>\n",
       "</div>"
      ],
      "text/plain": [
       "     train-auc-mean  train-auc-std  test-auc-mean  test-auc-std\n",
       "195        0.907373       0.003608       0.895558      0.002848\n",
       "196        0.907373       0.003608       0.895558      0.002848\n",
       "197        0.907373       0.003608       0.895558      0.002848\n",
       "198        0.907373       0.003608       0.895558      0.002848\n",
       "199        0.907373       0.003608       0.895558      0.002848"
      ]
     },
     "execution_count": 14,
     "metadata": {},
     "output_type": "execute_result"
    }
   ],
   "source": [
    "xgb_cv_num = xgb.cv(\n",
    "    params=params,\n",
    "    dtrain=dtrain,\n",
    "    num_boost_round=200,\n",
    "    stratified=True,\n",
    "    metrics=\"auc\",\n",
    "    maximize=True,\n",
    "    shuffle=True,\n",
    "    nfold=3\n",
    ")\n",
    "xgb_cv_num.tail()"
   ]
  },
  {
   "cell_type": "code",
   "execution_count": 19,
   "id": "c5e74e51",
   "metadata": {},
   "outputs": [],
   "source": [
    "xgb_cv_num.to_csv('xgb_cv_num.csv', index=False)"
   ]
  },
  {
   "cell_type": "markdown",
   "id": "9809879c",
   "metadata": {},
   "source": [
    "## Задание 2: обработать категориальные признаки любым способом (который вы знаете) и добавить их к данным. Выполнить задание 1."
   ]
  },
  {
   "cell_type": "code",
   "execution_count": 9,
   "id": "39364d76",
   "metadata": {},
   "outputs": [],
   "source": [
    "train_cat = train.copy()\n",
    "test_cat = test.copy()\n",
    "\n",
    "def recat(df, column, values):\n",
    "    return df[column].map({v: i for i, v in enumerate(values)})\n",
    "\n",
    "cat_columns = [col for col in train.columns if train[col].dtypes == 'object']\n",
    "for col in cat_columns:\n",
    "    values = train[col].unique()\n",
    "    \n",
    "    train_cat[col] = recat(train_cat, col, values)\n",
    "    test_cat[col] = recat(test_cat, col, values)\n",
    "    \n"
   ]
  },
  {
   "cell_type": "code",
   "execution_count": 26,
   "id": "9bbd5e70",
   "metadata": {},
   "outputs": [
    {
     "data": {
      "text/html": [
       "<div>\n",
       "<style scoped>\n",
       "    .dataframe tbody tr th:only-of-type {\n",
       "        vertical-align: middle;\n",
       "    }\n",
       "\n",
       "    .dataframe tbody tr th {\n",
       "        vertical-align: top;\n",
       "    }\n",
       "\n",
       "    .dataframe thead th {\n",
       "        text-align: right;\n",
       "    }\n",
       "</style>\n",
       "<table border=\"1\" class=\"dataframe\">\n",
       "  <thead>\n",
       "    <tr style=\"text-align: right;\">\n",
       "      <th></th>\n",
       "      <th>TransactionDT</th>\n",
       "      <th>TransactionAmt</th>\n",
       "      <th>ProductCD</th>\n",
       "      <th>card1</th>\n",
       "      <th>card2</th>\n",
       "      <th>card3</th>\n",
       "      <th>card4</th>\n",
       "      <th>card5</th>\n",
       "      <th>card6</th>\n",
       "      <th>addr1</th>\n",
       "      <th>...</th>\n",
       "      <th>V330</th>\n",
       "      <th>V331</th>\n",
       "      <th>V332</th>\n",
       "      <th>V333</th>\n",
       "      <th>V334</th>\n",
       "      <th>V335</th>\n",
       "      <th>V336</th>\n",
       "      <th>V337</th>\n",
       "      <th>V338</th>\n",
       "      <th>V339</th>\n",
       "    </tr>\n",
       "  </thead>\n",
       "  <tbody>\n",
       "    <tr>\n",
       "      <th>0</th>\n",
       "      <td>86400</td>\n",
       "      <td>68.5</td>\n",
       "      <td>0</td>\n",
       "      <td>13926</td>\n",
       "      <td>NaN</td>\n",
       "      <td>150.0</td>\n",
       "      <td>0</td>\n",
       "      <td>142.0</td>\n",
       "      <td>0</td>\n",
       "      <td>315.0</td>\n",
       "      <td>...</td>\n",
       "      <td>NaN</td>\n",
       "      <td>NaN</td>\n",
       "      <td>NaN</td>\n",
       "      <td>NaN</td>\n",
       "      <td>NaN</td>\n",
       "      <td>NaN</td>\n",
       "      <td>NaN</td>\n",
       "      <td>NaN</td>\n",
       "      <td>NaN</td>\n",
       "      <td>NaN</td>\n",
       "    </tr>\n",
       "    <tr>\n",
       "      <th>1</th>\n",
       "      <td>86401</td>\n",
       "      <td>29.0</td>\n",
       "      <td>0</td>\n",
       "      <td>2755</td>\n",
       "      <td>404.0</td>\n",
       "      <td>150.0</td>\n",
       "      <td>1</td>\n",
       "      <td>102.0</td>\n",
       "      <td>0</td>\n",
       "      <td>325.0</td>\n",
       "      <td>...</td>\n",
       "      <td>NaN</td>\n",
       "      <td>NaN</td>\n",
       "      <td>NaN</td>\n",
       "      <td>NaN</td>\n",
       "      <td>NaN</td>\n",
       "      <td>NaN</td>\n",
       "      <td>NaN</td>\n",
       "      <td>NaN</td>\n",
       "      <td>NaN</td>\n",
       "      <td>NaN</td>\n",
       "    </tr>\n",
       "    <tr>\n",
       "      <th>2</th>\n",
       "      <td>86469</td>\n",
       "      <td>59.0</td>\n",
       "      <td>0</td>\n",
       "      <td>4663</td>\n",
       "      <td>490.0</td>\n",
       "      <td>150.0</td>\n",
       "      <td>2</td>\n",
       "      <td>166.0</td>\n",
       "      <td>1</td>\n",
       "      <td>330.0</td>\n",
       "      <td>...</td>\n",
       "      <td>NaN</td>\n",
       "      <td>NaN</td>\n",
       "      <td>NaN</td>\n",
       "      <td>NaN</td>\n",
       "      <td>NaN</td>\n",
       "      <td>NaN</td>\n",
       "      <td>NaN</td>\n",
       "      <td>NaN</td>\n",
       "      <td>NaN</td>\n",
       "      <td>NaN</td>\n",
       "    </tr>\n",
       "  </tbody>\n",
       "</table>\n",
       "<p>3 rows × 392 columns</p>\n",
       "</div>"
      ],
      "text/plain": [
       "   TransactionDT  TransactionAmt  ProductCD  card1  card2  card3  card4  \\\n",
       "0          86400            68.5          0  13926    NaN  150.0      0   \n",
       "1          86401            29.0          0   2755  404.0  150.0      1   \n",
       "2          86469            59.0          0   4663  490.0  150.0      2   \n",
       "\n",
       "   card5  card6  addr1  ...  V330  V331  V332  V333  V334  V335  V336  V337  \\\n",
       "0  142.0      0  315.0  ...   NaN   NaN   NaN   NaN   NaN   NaN   NaN   NaN   \n",
       "1  102.0      0  325.0  ...   NaN   NaN   NaN   NaN   NaN   NaN   NaN   NaN   \n",
       "2  166.0      1  330.0  ...   NaN   NaN   NaN   NaN   NaN   NaN   NaN   NaN   \n",
       "\n",
       "   V338  V339  \n",
       "0   NaN   NaN  \n",
       "1   NaN   NaN  \n",
       "2   NaN   NaN  \n",
       "\n",
       "[3 rows x 392 columns]"
      ]
     },
     "execution_count": 26,
     "metadata": {},
     "output_type": "execute_result"
    }
   ],
   "source": [
    "train_cat.head(3)"
   ]
  },
  {
   "cell_type": "code",
   "execution_count": 10,
   "id": "2252a306",
   "metadata": {},
   "outputs": [
    {
     "data": {
      "text/plain": [
       "(180000, 392)"
      ]
     },
     "execution_count": 10,
     "metadata": {},
     "output_type": "execute_result"
    }
   ],
   "source": [
    "train_cat.shape"
   ]
  },
  {
   "cell_type": "code",
   "execution_count": 28,
   "id": "676e2deb",
   "metadata": {
    "scrolled": true
   },
   "outputs": [
    {
     "data": {
      "text/html": [
       "<div>\n",
       "<style scoped>\n",
       "    .dataframe tbody tr th:only-of-type {\n",
       "        vertical-align: middle;\n",
       "    }\n",
       "\n",
       "    .dataframe tbody tr th {\n",
       "        vertical-align: top;\n",
       "    }\n",
       "\n",
       "    .dataframe thead th {\n",
       "        text-align: right;\n",
       "    }\n",
       "</style>\n",
       "<table border=\"1\" class=\"dataframe\">\n",
       "  <thead>\n",
       "    <tr style=\"text-align: right;\">\n",
       "      <th></th>\n",
       "      <th>TransactionDT</th>\n",
       "      <th>TransactionAmt</th>\n",
       "      <th>ProductCD</th>\n",
       "      <th>card1</th>\n",
       "      <th>card2</th>\n",
       "      <th>card3</th>\n",
       "      <th>card4</th>\n",
       "      <th>card5</th>\n",
       "      <th>card6</th>\n",
       "      <th>addr1</th>\n",
       "      <th>...</th>\n",
       "      <th>V330</th>\n",
       "      <th>V331</th>\n",
       "      <th>V332</th>\n",
       "      <th>V333</th>\n",
       "      <th>V334</th>\n",
       "      <th>V335</th>\n",
       "      <th>V336</th>\n",
       "      <th>V337</th>\n",
       "      <th>V338</th>\n",
       "      <th>V339</th>\n",
       "    </tr>\n",
       "  </thead>\n",
       "  <tbody>\n",
       "    <tr>\n",
       "      <th>0</th>\n",
       "      <td>7415038</td>\n",
       "      <td>226.00</td>\n",
       "      <td>0</td>\n",
       "      <td>12473</td>\n",
       "      <td>555.0</td>\n",
       "      <td>150.0</td>\n",
       "      <td>2</td>\n",
       "      <td>226.0</td>\n",
       "      <td>0</td>\n",
       "      <td>299.0</td>\n",
       "      <td>...</td>\n",
       "      <td>NaN</td>\n",
       "      <td>NaN</td>\n",
       "      <td>NaN</td>\n",
       "      <td>NaN</td>\n",
       "      <td>NaN</td>\n",
       "      <td>NaN</td>\n",
       "      <td>NaN</td>\n",
       "      <td>NaN</td>\n",
       "      <td>NaN</td>\n",
       "      <td>NaN</td>\n",
       "    </tr>\n",
       "    <tr>\n",
       "      <th>1</th>\n",
       "      <td>7415054</td>\n",
       "      <td>3072.00</td>\n",
       "      <td>0</td>\n",
       "      <td>15651</td>\n",
       "      <td>417.0</td>\n",
       "      <td>150.0</td>\n",
       "      <td>2</td>\n",
       "      <td>226.0</td>\n",
       "      <td>1</td>\n",
       "      <td>330.0</td>\n",
       "      <td>...</td>\n",
       "      <td>NaN</td>\n",
       "      <td>NaN</td>\n",
       "      <td>NaN</td>\n",
       "      <td>NaN</td>\n",
       "      <td>NaN</td>\n",
       "      <td>NaN</td>\n",
       "      <td>NaN</td>\n",
       "      <td>NaN</td>\n",
       "      <td>NaN</td>\n",
       "      <td>NaN</td>\n",
       "    </tr>\n",
       "    <tr>\n",
       "      <th>2</th>\n",
       "      <td>7415081</td>\n",
       "      <td>319.95</td>\n",
       "      <td>0</td>\n",
       "      <td>13844</td>\n",
       "      <td>583.0</td>\n",
       "      <td>150.0</td>\n",
       "      <td>2</td>\n",
       "      <td>226.0</td>\n",
       "      <td>0</td>\n",
       "      <td>126.0</td>\n",
       "      <td>...</td>\n",
       "      <td>NaN</td>\n",
       "      <td>NaN</td>\n",
       "      <td>NaN</td>\n",
       "      <td>NaN</td>\n",
       "      <td>NaN</td>\n",
       "      <td>NaN</td>\n",
       "      <td>NaN</td>\n",
       "      <td>NaN</td>\n",
       "      <td>NaN</td>\n",
       "      <td>NaN</td>\n",
       "    </tr>\n",
       "  </tbody>\n",
       "</table>\n",
       "<p>3 rows × 392 columns</p>\n",
       "</div>"
      ],
      "text/plain": [
       "   TransactionDT  TransactionAmt  ProductCD  card1  card2  card3  card4  \\\n",
       "0        7415038          226.00          0  12473  555.0  150.0      2   \n",
       "1        7415054         3072.00          0  15651  417.0  150.0      2   \n",
       "2        7415081          319.95          0  13844  583.0  150.0      2   \n",
       "\n",
       "   card5  card6  addr1  ...  V330  V331  V332  V333  V334  V335  V336  V337  \\\n",
       "0  226.0      0  299.0  ...   NaN   NaN   NaN   NaN   NaN   NaN   NaN   NaN   \n",
       "1  226.0      1  330.0  ...   NaN   NaN   NaN   NaN   NaN   NaN   NaN   NaN   \n",
       "2  226.0      0  126.0  ...   NaN   NaN   NaN   NaN   NaN   NaN   NaN   NaN   \n",
       "\n",
       "   V338  V339  \n",
       "0   NaN   NaN  \n",
       "1   NaN   NaN  \n",
       "2   NaN   NaN  \n",
       "\n",
       "[3 rows x 392 columns]"
      ]
     },
     "execution_count": 28,
     "metadata": {},
     "output_type": "execute_result"
    }
   ],
   "source": [
    "test_cat.head(3)"
   ]
  },
  {
   "cell_type": "code",
   "execution_count": 30,
   "id": "11d175f4",
   "metadata": {},
   "outputs": [
    {
     "data": {
      "text/plain": [
       "(100001, 392)"
      ]
     },
     "execution_count": 30,
     "metadata": {},
     "output_type": "execute_result"
    }
   ],
   "source": [
    "test_cat.shape"
   ]
  },
  {
   "cell_type": "code",
   "execution_count": 16,
   "id": "c0a7ad33",
   "metadata": {
    "scrolled": true
   },
   "outputs": [],
   "source": [
    "dtrain = xgb.DMatrix(\n",
    "    data=train_cat, label=target\n",
    ")\n",
    "dvalid = xgb.DMatrix(\n",
    "    data=test_cat, label=target_test\n",
    ")"
   ]
  },
  {
   "cell_type": "code",
   "execution_count": 17,
   "id": "9f9b0c9e",
   "metadata": {},
   "outputs": [
    {
     "name": "stdout",
     "output_type": "stream",
     "text": [
      "[09:18:42] WARNING: /home/conda/feedstock_root/build_artifacts/xgboost-split_1645117766796/work/src/learner.cc:576: \n",
      "Parameters: { \"n_estimators\" } might not be used.\n",
      "\n",
      "  This could be a false alarm, with some parameters getting used by language bindings but\n",
      "  then being mistakenly passed down to XGBoost core, or some parameter actually being used\n",
      "  but getting flagged wrongly here. Please open an issue if you find any such cases.\n",
      "\n",
      "\n",
      "[0]\ttrain-auc:0.64999\tvalid-auc:0.62240\n",
      "[50]\ttrain-auc:0.88433\tvalid-auc:0.85659\n",
      "[100]\ttrain-auc:0.90749\tvalid-auc:0.86284\n",
      "[150]\ttrain-auc:0.91573\tvalid-auc:0.86617\n",
      "[200]\ttrain-auc:0.92091\tvalid-auc:0.86758\n",
      "[249]\ttrain-auc:0.92109\tvalid-auc:0.86747\n"
     ]
    }
   ],
   "source": [
    "model_xgb_cat = xgb.train(\n",
    "    params=params,\n",
    "    dtrain=dtrain,\n",
    "    num_boost_round=1000,\n",
    "    early_stopping_rounds=50,\n",
    "    evals=[(dtrain, \"train\"), (dvalid, \"valid\")],\n",
    "    verbose_eval=50,\n",
    "    maximize=True,\n",
    ")"
   ]
  },
  {
   "cell_type": "code",
   "execution_count": 18,
   "id": "5993bd09",
   "metadata": {},
   "outputs": [
    {
     "name": "stdout",
     "output_type": "stream",
     "text": [
      "[09:35:56] WARNING: /home/conda/feedstock_root/build_artifacts/xgboost-split_1645117766796/work/src/learner.cc:576: \n",
      "Parameters: { \"n_estimators\" } might not be used.\n",
      "\n",
      "  This could be a false alarm, with some parameters getting used by language bindings but\n",
      "  then being mistakenly passed down to XGBoost core, or some parameter actually being used\n",
      "  but getting flagged wrongly here. Please open an issue if you find any such cases.\n",
      "\n",
      "\n",
      "[09:35:57] WARNING: /home/conda/feedstock_root/build_artifacts/xgboost-split_1645117766796/work/src/learner.cc:576: \n",
      "Parameters: { \"n_estimators\" } might not be used.\n",
      "\n",
      "  This could be a false alarm, with some parameters getting used by language bindings but\n",
      "  then being mistakenly passed down to XGBoost core, or some parameter actually being used\n",
      "  but getting flagged wrongly here. Please open an issue if you find any such cases.\n",
      "\n",
      "\n",
      "[09:35:58] WARNING: /home/conda/feedstock_root/build_artifacts/xgboost-split_1645117766796/work/src/learner.cc:576: \n",
      "Parameters: { \"n_estimators\" } might not be used.\n",
      "\n",
      "  This could be a false alarm, with some parameters getting used by language bindings but\n",
      "  then being mistakenly passed down to XGBoost core, or some parameter actually being used\n",
      "  but getting flagged wrongly here. Please open an issue if you find any such cases.\n",
      "\n",
      "\n"
     ]
    },
    {
     "data": {
      "text/html": [
       "<div>\n",
       "<style scoped>\n",
       "    .dataframe tbody tr th:only-of-type {\n",
       "        vertical-align: middle;\n",
       "    }\n",
       "\n",
       "    .dataframe tbody tr th {\n",
       "        vertical-align: top;\n",
       "    }\n",
       "\n",
       "    .dataframe thead th {\n",
       "        text-align: right;\n",
       "    }\n",
       "</style>\n",
       "<table border=\"1\" class=\"dataframe\">\n",
       "  <thead>\n",
       "    <tr style=\"text-align: right;\">\n",
       "      <th></th>\n",
       "      <th>train-auc-mean</th>\n",
       "      <th>train-auc-std</th>\n",
       "      <th>test-auc-mean</th>\n",
       "      <th>test-auc-std</th>\n",
       "    </tr>\n",
       "  </thead>\n",
       "  <tbody>\n",
       "    <tr>\n",
       "      <th>195</th>\n",
       "      <td>0.913848</td>\n",
       "      <td>0.002415</td>\n",
       "      <td>0.902495</td>\n",
       "      <td>0.002314</td>\n",
       "    </tr>\n",
       "    <tr>\n",
       "      <th>196</th>\n",
       "      <td>0.913848</td>\n",
       "      <td>0.002415</td>\n",
       "      <td>0.902495</td>\n",
       "      <td>0.002314</td>\n",
       "    </tr>\n",
       "    <tr>\n",
       "      <th>197</th>\n",
       "      <td>0.913848</td>\n",
       "      <td>0.002415</td>\n",
       "      <td>0.902495</td>\n",
       "      <td>0.002314</td>\n",
       "    </tr>\n",
       "    <tr>\n",
       "      <th>198</th>\n",
       "      <td>0.913848</td>\n",
       "      <td>0.002415</td>\n",
       "      <td>0.902495</td>\n",
       "      <td>0.002314</td>\n",
       "    </tr>\n",
       "    <tr>\n",
       "      <th>199</th>\n",
       "      <td>0.913848</td>\n",
       "      <td>0.002415</td>\n",
       "      <td>0.902495</td>\n",
       "      <td>0.002314</td>\n",
       "    </tr>\n",
       "  </tbody>\n",
       "</table>\n",
       "</div>"
      ],
      "text/plain": [
       "     train-auc-mean  train-auc-std  test-auc-mean  test-auc-std\n",
       "195        0.913848       0.002415       0.902495      0.002314\n",
       "196        0.913848       0.002415       0.902495      0.002314\n",
       "197        0.913848       0.002415       0.902495      0.002314\n",
       "198        0.913848       0.002415       0.902495      0.002314\n",
       "199        0.913848       0.002415       0.902495      0.002314"
      ]
     },
     "execution_count": 18,
     "metadata": {},
     "output_type": "execute_result"
    }
   ],
   "source": [
    "xgb_cv_cat = xgb.cv(\n",
    "    params=params,\n",
    "    dtrain=dtrain,\n",
    "    num_boost_round=200,\n",
    "    stratified=True,\n",
    "    metrics=\"auc\",\n",
    "    maximize=True,\n",
    "    shuffle=True,\n",
    "    nfold=3\n",
    ")\n",
    "xgb_cv_cat.tail()"
   ]
  },
  {
   "cell_type": "code",
   "execution_count": 20,
   "id": "51c73fbd",
   "metadata": {},
   "outputs": [],
   "source": [
    "xgb_cv_cat.to_csv('xgb_cv_cat.csv', index=False)"
   ]
  },
  {
   "cell_type": "markdown",
   "id": "0268dd1f",
   "metadata": {},
   "source": [
    "## Задание 4: для числовых признаков обучить модель LightGBM. Обучать алгоритм до тех пор, пока метрика качества не перестанет улучшаться на валидационной выборке в течение определенного числа итераций (выбрать значение самостоятельно)."
   ]
  },
  {
   "cell_type": "code",
   "execution_count": 16,
   "id": "127556e8",
   "metadata": {},
   "outputs": [],
   "source": [
    "params = {\n",
    "    \"boosting_type\": \"gbdt\",\n",
    "    \"objective\": \"binary\",\n",
    "    \"metric\": \"auc\",\n",
    "    \"learning_rate\": 0.01,\n",
    "    \"n_estimators\": 10000,\n",
    "    \"n_jobs\": 6,\n",
    "    \"seed\": 27\n",
    "}"
   ]
  },
  {
   "cell_type": "code",
   "execution_count": 17,
   "id": "4a839521",
   "metadata": {
    "scrolled": true
   },
   "outputs": [
    {
     "name": "stdout",
     "output_type": "stream",
     "text": [
      "[LightGBM] [Info] Number of positive: 5141, number of negative: 174859\n",
      "[LightGBM] [Warning] Auto-choosing row-wise multi-threading, the overhead of testing was 0.195688 seconds.\n",
      "You can set `force_row_wise=true` to remove the overhead.\n",
      "And if memory is not enough, you can set `force_col_wise=true`.\n",
      "[LightGBM] [Info] Total Bins 31926\n",
      "[LightGBM] [Info] Number of data points in the train set: 180000, number of used features: 376\n",
      "[LightGBM] [Info] [binary:BoostFromScore]: pavg=0.028561 -> initscore=-3.526732\n",
      "[LightGBM] [Info] Start training from score -3.526732\n",
      "Training until validation scores don't improve for 50 rounds\n",
      "[50]\ttraining's auc: 0.8742\tvalid_1's auc: 0.84369\n",
      "[100]\ttraining's auc: 0.890978\tvalid_1's auc: 0.855137\n",
      "[150]\ttraining's auc: 0.902026\tvalid_1's auc: 0.856233\n",
      "Early stopping, best iteration is:\n",
      "[126]\ttraining's auc: 0.896549\tvalid_1's auc: 0.857897\n"
     ]
    }
   ],
   "source": [
    "dtrain = lgb.Dataset(\n",
    "    data=numerical_features, label=target\n",
    ")\n",
    "dvalid = lgb.Dataset(\n",
    "    data=numerical_features_test, label=target_test\n",
    ")\n",
    "\n",
    "model_lgb_num = lgb.train(\n",
    "    params=params,\n",
    "    train_set=dtrain,\n",
    "    num_boost_round=200,\n",
    "    valid_sets=[dtrain, dvalid],\n",
    "    categorical_feature=\"auto\",\n",
    "    early_stopping_rounds=50,\n",
    "    verbose_eval=50\n",
    ")"
   ]
  },
  {
   "cell_type": "code",
   "execution_count": 13,
   "id": "f3e7e642",
   "metadata": {
    "scrolled": false
   },
   "outputs": [
    {
     "name": "stdout",
     "output_type": "stream",
     "text": [
      "[LightGBM] [Info] Number of positive: 3428, number of negative: 116572\n",
      "[LightGBM] [Warning] Auto-choosing row-wise multi-threading, the overhead of testing was 0.128711 seconds.\n",
      "You can set `force_row_wise=true` to remove the overhead.\n",
      "And if memory is not enough, you can set `force_col_wise=true`.\n",
      "[LightGBM] [Info] Total Bins 31926\n",
      "[LightGBM] [Info] Number of data points in the train set: 120000, number of used features: 376\n",
      "[LightGBM] [Info] Number of positive: 3427, number of negative: 116573\n",
      "[LightGBM] [Warning] Auto-choosing row-wise multi-threading, the overhead of testing was 0.147164 seconds.\n",
      "You can set `force_row_wise=true` to remove the overhead.\n",
      "And if memory is not enough, you can set `force_col_wise=true`.\n",
      "[LightGBM] [Info] Total Bins 31926\n",
      "[LightGBM] [Info] Number of data points in the train set: 120000, number of used features: 376\n",
      "[LightGBM] [Info] Number of positive: 3427, number of negative: 116573\n",
      "[LightGBM] [Warning] Auto-choosing row-wise multi-threading, the overhead of testing was 0.161441 seconds.\n",
      "You can set `force_row_wise=true` to remove the overhead.\n",
      "And if memory is not enough, you can set `force_col_wise=true`.\n",
      "[LightGBM] [Info] Total Bins 31926\n",
      "[LightGBM] [Info] Number of data points in the train set: 120000, number of used features: 376\n",
      "[LightGBM] [Info] [binary:BoostFromScore]: pavg=0.028567 -> initscore=-3.526532\n",
      "[LightGBM] [Info] Start training from score -3.526532\n",
      "[LightGBM] [Info] [binary:BoostFromScore]: pavg=0.028558 -> initscore=-3.526832\n",
      "[LightGBM] [Info] Start training from score -3.526832\n",
      "[LightGBM] [Info] [binary:BoostFromScore]: pavg=0.028558 -> initscore=-3.526832\n",
      "[LightGBM] [Info] Start training from score -3.526832\n"
     ]
    },
    {
     "data": {
      "text/html": [
       "<div>\n",
       "<style scoped>\n",
       "    .dataframe tbody tr th:only-of-type {\n",
       "        vertical-align: middle;\n",
       "    }\n",
       "\n",
       "    .dataframe tbody tr th {\n",
       "        vertical-align: top;\n",
       "    }\n",
       "\n",
       "    .dataframe thead th {\n",
       "        text-align: right;\n",
       "    }\n",
       "</style>\n",
       "<table border=\"1\" class=\"dataframe\">\n",
       "  <thead>\n",
       "    <tr style=\"text-align: right;\">\n",
       "      <th></th>\n",
       "      <th>auc-mean</th>\n",
       "      <th>auc-stdv</th>\n",
       "    </tr>\n",
       "  </thead>\n",
       "  <tbody>\n",
       "    <tr>\n",
       "      <th>195</th>\n",
       "      <td>0.896437</td>\n",
       "      <td>0.002751</td>\n",
       "    </tr>\n",
       "    <tr>\n",
       "      <th>196</th>\n",
       "      <td>0.896513</td>\n",
       "      <td>0.002812</td>\n",
       "    </tr>\n",
       "    <tr>\n",
       "      <th>197</th>\n",
       "      <td>0.896598</td>\n",
       "      <td>0.002777</td>\n",
       "    </tr>\n",
       "    <tr>\n",
       "      <th>198</th>\n",
       "      <td>0.896638</td>\n",
       "      <td>0.002734</td>\n",
       "    </tr>\n",
       "    <tr>\n",
       "      <th>199</th>\n",
       "      <td>0.896721</td>\n",
       "      <td>0.002795</td>\n",
       "    </tr>\n",
       "  </tbody>\n",
       "</table>\n",
       "</div>"
      ],
      "text/plain": [
       "     auc-mean  auc-stdv\n",
       "195  0.896437  0.002751\n",
       "196  0.896513  0.002812\n",
       "197  0.896598  0.002777\n",
       "198  0.896638  0.002734\n",
       "199  0.896721  0.002795"
      ]
     },
     "execution_count": 13,
     "metadata": {},
     "output_type": "execute_result"
    }
   ],
   "source": [
    "lgb_num_cv = lgb.cv(\n",
    "    params=params,\n",
    "    train_set=dtrain,\n",
    "    num_boost_round=200,\n",
    "    stratified=True,\n",
    "    metrics=\"auc\",\n",
    "    shuffle=True,\n",
    "    nfold=3, \n",
    ")\n",
    "lgb_num_cv = pd.DataFrame(lgb_num_cv)\n",
    "lgb_num_cv.to_csv('./lgb_num_cv.csv', index=False)\n",
    "lgb_num_cv.tail()"
   ]
  },
  {
   "cell_type": "markdown",
   "id": "2b8ccdc5",
   "metadata": {},
   "source": [
    "## Задание 5: обработать категориальные признаки любым способом (который вы знаете) и добавить их к данным. Выполнить задание 4."
   ]
  },
  {
   "cell_type": "code",
   "execution_count": 18,
   "id": "68bc25ff",
   "metadata": {
    "scrolled": true
   },
   "outputs": [
    {
     "name": "stdout",
     "output_type": "stream",
     "text": [
      "[LightGBM] [Info] Number of positive: 5141, number of negative: 174859\n",
      "[LightGBM] [Warning] Auto-choosing row-wise multi-threading, the overhead of testing was 0.204192 seconds.\n",
      "You can set `force_row_wise=true` to remove the overhead.\n",
      "And if memory is not enough, you can set `force_col_wise=true`.\n",
      "[LightGBM] [Info] Total Bins 32090\n",
      "[LightGBM] [Info] Number of data points in the train set: 180000, number of used features: 390\n",
      "[LightGBM] [Info] [binary:BoostFromScore]: pavg=0.028561 -> initscore=-3.526732\n",
      "[LightGBM] [Info] Start training from score -3.526732\n",
      "Training until validation scores don't improve for 50 rounds\n",
      "[200]\ttraining's auc: 0.915292\tvalid_1's auc: 0.864672\n",
      "[400]\ttraining's auc: 0.941428\tvalid_1's auc: 0.871166\n",
      "[600]\ttraining's auc: 0.955993\tvalid_1's auc: 0.874702\n",
      "[800]\ttraining's auc: 0.963595\tvalid_1's auc: 0.875347\n",
      "Early stopping, best iteration is:\n",
      "[786]\ttraining's auc: 0.963076\tvalid_1's auc: 0.875453\n"
     ]
    }
   ],
   "source": [
    "dtrain = lgb.Dataset(\n",
    "    data=train_cat, label=target\n",
    ")\n",
    "dvalid = lgb.Dataset(\n",
    "    data=test_cat, label=target_test\n",
    ")\n",
    "\n",
    "model_lgb_cat = lgb.train(\n",
    "    params=params,\n",
    "    train_set=dtrain,\n",
    "    num_boost_round=200,\n",
    "    valid_sets=[dtrain, dvalid],\n",
    "    categorical_feature=\"auto\",\n",
    "    early_stopping_rounds=50,\n",
    "    verbose_eval=200\n",
    ")"
   ]
  },
  {
   "cell_type": "code",
   "execution_count": 15,
   "id": "64d42b12",
   "metadata": {},
   "outputs": [
    {
     "name": "stdout",
     "output_type": "stream",
     "text": [
      "[LightGBM] [Info] Number of positive: 3428, number of negative: 116572\n",
      "[LightGBM] [Warning] Auto-choosing row-wise multi-threading, the overhead of testing was 0.155697 seconds.\n",
      "You can set `force_row_wise=true` to remove the overhead.\n",
      "And if memory is not enough, you can set `force_col_wise=true`.\n",
      "[LightGBM] [Info] Total Bins 32090\n",
      "[LightGBM] [Info] Number of data points in the train set: 120000, number of used features: 390\n",
      "[LightGBM] [Info] Number of positive: 3427, number of negative: 116573\n",
      "[LightGBM] [Warning] Auto-choosing row-wise multi-threading, the overhead of testing was 0.154235 seconds.\n",
      "You can set `force_row_wise=true` to remove the overhead.\n",
      "And if memory is not enough, you can set `force_col_wise=true`.\n",
      "[LightGBM] [Info] Total Bins 32090\n",
      "[LightGBM] [Info] Number of data points in the train set: 120000, number of used features: 390\n",
      "[LightGBM] [Info] Number of positive: 3427, number of negative: 116573\n",
      "[LightGBM] [Warning] Auto-choosing row-wise multi-threading, the overhead of testing was 0.136586 seconds.\n",
      "You can set `force_row_wise=true` to remove the overhead.\n",
      "And if memory is not enough, you can set `force_col_wise=true`.\n",
      "[LightGBM] [Info] Total Bins 32090\n",
      "[LightGBM] [Info] Number of data points in the train set: 120000, number of used features: 390\n",
      "[LightGBM] [Info] [binary:BoostFromScore]: pavg=0.028567 -> initscore=-3.526532\n",
      "[LightGBM] [Info] Start training from score -3.526532\n",
      "[LightGBM] [Info] [binary:BoostFromScore]: pavg=0.028558 -> initscore=-3.526832\n",
      "[LightGBM] [Info] Start training from score -3.526832\n",
      "[LightGBM] [Info] [binary:BoostFromScore]: pavg=0.028558 -> initscore=-3.526832\n",
      "[LightGBM] [Info] Start training from score -3.526832\n"
     ]
    },
    {
     "data": {
      "text/html": [
       "<div>\n",
       "<style scoped>\n",
       "    .dataframe tbody tr th:only-of-type {\n",
       "        vertical-align: middle;\n",
       "    }\n",
       "\n",
       "    .dataframe tbody tr th {\n",
       "        vertical-align: top;\n",
       "    }\n",
       "\n",
       "    .dataframe thead th {\n",
       "        text-align: right;\n",
       "    }\n",
       "</style>\n",
       "<table border=\"1\" class=\"dataframe\">\n",
       "  <thead>\n",
       "    <tr style=\"text-align: right;\">\n",
       "      <th></th>\n",
       "      <th>auc-mean</th>\n",
       "      <th>auc-stdv</th>\n",
       "    </tr>\n",
       "  </thead>\n",
       "  <tbody>\n",
       "    <tr>\n",
       "      <th>195</th>\n",
       "      <td>0.901953</td>\n",
       "      <td>0.004077</td>\n",
       "    </tr>\n",
       "    <tr>\n",
       "      <th>196</th>\n",
       "      <td>0.902040</td>\n",
       "      <td>0.004106</td>\n",
       "    </tr>\n",
       "    <tr>\n",
       "      <th>197</th>\n",
       "      <td>0.902125</td>\n",
       "      <td>0.004172</td>\n",
       "    </tr>\n",
       "    <tr>\n",
       "      <th>198</th>\n",
       "      <td>0.902213</td>\n",
       "      <td>0.004196</td>\n",
       "    </tr>\n",
       "    <tr>\n",
       "      <th>199</th>\n",
       "      <td>0.902300</td>\n",
       "      <td>0.004135</td>\n",
       "    </tr>\n",
       "  </tbody>\n",
       "</table>\n",
       "</div>"
      ],
      "text/plain": [
       "     auc-mean  auc-stdv\n",
       "195  0.901953  0.004077\n",
       "196  0.902040  0.004106\n",
       "197  0.902125  0.004172\n",
       "198  0.902213  0.004196\n",
       "199  0.902300  0.004135"
      ]
     },
     "execution_count": 15,
     "metadata": {},
     "output_type": "execute_result"
    }
   ],
   "source": [
    "lgb_cat_cv = lgb.cv(\n",
    "    params=params,\n",
    "    train_set=dtrain,\n",
    "    num_boost_round=200,\n",
    "    stratified=True,\n",
    "    metrics=\"auc\",\n",
    "    shuffle=True,\n",
    "    nfold=3, \n",
    ")\n",
    "lgb_cat_cv = pd.DataFrame(lgb_cat_cv)\n",
    "lgb_cat_cv.to_csv('./lgb_cat_cv.csv', index=False)\n",
    "lgb_cat_cv.tail()"
   ]
  },
  {
   "cell_type": "markdown",
   "id": "face30b0",
   "metadata": {},
   "source": [
    "## Задание 6: обработать категориальные признаки встроенным методом в LightGBM. Выполнить задание 4. Сделать выводы о качестве работы алгоритма, по сравнению с пунктом 5."
   ]
  },
  {
   "cell_type": "code",
   "execution_count": 29,
   "id": "f75b875a",
   "metadata": {},
   "outputs": [],
   "source": [
    "train_lgbm_cat = train.copy()\n",
    "test_lgbm_cat = test.copy()"
   ]
  },
  {
   "cell_type": "code",
   "execution_count": 30,
   "id": "d34e2c3f",
   "metadata": {
    "scrolled": true
   },
   "outputs": [],
   "source": [
    "categorical_features = train.select_dtypes(include=[np.object])"
   ]
  },
  {
   "cell_type": "code",
   "execution_count": 31,
   "id": "f1a66f4d",
   "metadata": {},
   "outputs": [],
   "source": [
    "for cat in categorical_features:\n",
    "    train_lgbm_cat[cat] = train_lgbm_cat[cat].astype('category')\n",
    "    test_lgbm_cat[cat] = test_lgbm_cat[cat].astype('category')"
   ]
  },
  {
   "cell_type": "code",
   "execution_count": 41,
   "id": "79bb3d6a",
   "metadata": {},
   "outputs": [
    {
     "data": {
      "text/plain": [
       "(180000, 392)"
      ]
     },
     "execution_count": 41,
     "metadata": {},
     "output_type": "execute_result"
    }
   ],
   "source": [
    "train_lgbm_cat.shape"
   ]
  },
  {
   "cell_type": "code",
   "execution_count": 42,
   "id": "3dbe5e52",
   "metadata": {},
   "outputs": [
    {
     "data": {
      "text/plain": [
       "(100001, 392)"
      ]
     },
     "execution_count": 42,
     "metadata": {},
     "output_type": "execute_result"
    }
   ],
   "source": [
    "test_lgbm_cat.shape"
   ]
  },
  {
   "cell_type": "code",
   "execution_count": 32,
   "id": "92ae1a17",
   "metadata": {},
   "outputs": [],
   "source": [
    "cat_list = list(categorical_features.columns)"
   ]
  },
  {
   "cell_type": "code",
   "execution_count": 42,
   "id": "619172b1",
   "metadata": {},
   "outputs": [
    {
     "name": "stdout",
     "output_type": "stream",
     "text": [
      "[LightGBM] [Info] Number of positive: 5141, number of negative: 174859\n",
      "[LightGBM] [Warning] Auto-choosing row-wise multi-threading, the overhead of testing was 0.295172 seconds.\n",
      "You can set `force_row_wise=true` to remove the overhead.\n",
      "And if memory is not enough, you can set `force_col_wise=true`.\n",
      "[LightGBM] [Info] Total Bins 32091\n",
      "[LightGBM] [Info] Number of data points in the train set: 180000, number of used features: 390\n",
      "[LightGBM] [Info] [binary:BoostFromScore]: pavg=0.028561 -> initscore=-3.526732\n",
      "[LightGBM] [Info] Start training from score -3.526732\n",
      "Training until validation scores don't improve for 50 rounds\n",
      "[200]\ttraining's auc: 0.916952\tvalid_1's auc: 0.861209\n",
      "[400]\ttraining's auc: 0.942758\tvalid_1's auc: 0.869034\n",
      "[600]\ttraining's auc: 0.957743\tvalid_1's auc: 0.872241\n",
      "Early stopping, best iteration is:\n",
      "[586]\ttraining's auc: 0.957016\tvalid_1's auc: 0.872402\n"
     ]
    }
   ],
   "source": [
    "dtrain = lgb.Dataset(\n",
    "    data=train_lgbm_cat, label=target, categorical_feature = cat_list\n",
    ")\n",
    "dvalid = lgb.Dataset(\n",
    "    data=test_lgbm_cat, label=target_test, categorical_feature = cat_list\n",
    ")\n",
    "\n",
    "\n",
    "model_lgb_cat_in = lgb.train(\n",
    "    params=params,\n",
    "    train_set=dtrain,\n",
    "    num_boost_round=10000,\n",
    "    valid_sets=[dtrain, dvalid],\n",
    "    categorical_feature=cat_list,\n",
    "    early_stopping_rounds=50,\n",
    "    verbose_eval=200\n",
    ")"
   ]
  },
  {
   "cell_type": "markdown",
   "id": "3ee95b69",
   "metadata": {},
   "source": [
    "Со встроенным методом качество на трейне и валидации получилось выше"
   ]
  },
  {
   "cell_type": "markdown",
   "id": "01476277",
   "metadata": {},
   "source": [
    "## Задание 7: для числовых признаков обучить модель CatBoost. Обучать алгоритм до тех пор, пока метрика качества не перестанет улучшаться на валидационной выборке в течение определенного числа итераций (выбрать значение самостоятельно)."
   ]
  },
  {
   "cell_type": "code",
   "execution_count": 44,
   "id": "a0b5bad8",
   "metadata": {},
   "outputs": [],
   "source": [
    "cb_params = {\n",
    "    \"n_estimators\": 10000,\n",
    "    \"loss_function\": \"Logloss\",\n",
    "    \"eval_metric\": \"AUC\",\n",
    "    \"task_type\": \"CPU\",\n",
    "    \"max_bin\": 20,\n",
    "    \"verbose\": 200,\n",
    "    \"max_depth\": 6,\n",
    "    \"l2_leaf_reg\": 100,\n",
    "    \"early_stopping_rounds\": 50,\n",
    "    \"thread_count\": 6,\n",
    "    \"random_seed\": 42\n",
    "}"
   ]
  },
  {
   "cell_type": "code",
   "execution_count": 51,
   "id": "5a2869c4",
   "metadata": {},
   "outputs": [],
   "source": [
    "dtrain = cb.Pool(numerical_features, target)\n",
    "dtest = cb.Pool(numerical_features_test, target_test)"
   ]
  },
  {
   "cell_type": "code",
   "execution_count": 52,
   "id": "9350b095",
   "metadata": {
    "scrolled": false
   },
   "outputs": [
    {
     "name": "stdout",
     "output_type": "stream",
     "text": [
      "0:\ttest: 0.6006133\tbest: 0.6006133 (0)\ttotal: 98.6ms\tremaining: 16m 25s\n",
      "200:\ttest: 0.8466467\tbest: 0.8466467 (200)\ttotal: 18.9s\tremaining: 15m 20s\n",
      "400:\ttest: 0.8545913\tbest: 0.8546763 (378)\ttotal: 39.3s\tremaining: 15m 39s\n",
      "Stopped by overfitting detector  (50 iterations wait)\n",
      "\n",
      "bestTest = 0.8552451901\n",
      "bestIteration = 453\n",
      "\n",
      "Shrink model to first 454 iterations.\n"
     ]
    },
    {
     "data": {
      "text/plain": [
       "<catboost.core.CatBoostClassifier at 0x7f5e8d1bb8e0>"
      ]
     },
     "execution_count": 52,
     "metadata": {},
     "output_type": "execute_result"
    }
   ],
   "source": [
    "model_cat_num = cb.CatBoostClassifier(**cb_params)\n",
    "model_cat_num.fit(dtrain, eval_set=dtest)"
   ]
  },
  {
   "cell_type": "code",
   "execution_count": 53,
   "id": "55d7e860",
   "metadata": {
    "scrolled": false
   },
   "outputs": [
    {
     "data": {
      "application/vnd.jupyter.widget-view+json": {
       "model_id": "e63472f435da4a0bb494ce7f4c72731b",
       "version_major": 2,
       "version_minor": 0
      },
      "text/plain": [
       "MetricVisualizer(layout=Layout(align_self='stretch', height='500px'))"
      ]
     },
     "metadata": {},
     "output_type": "display_data"
    },
    {
     "name": "stdout",
     "output_type": "stream",
     "text": [
      "Training on fold [0/3]\n",
      "0:\ttest: 0.6118252\tbest: 0.6118252 (0)\ttotal: 82ms\tremaining: 16.3s\n",
      "50:\ttest: 0.8558583\tbest: 0.8558583 (50)\ttotal: 3.51s\tremaining: 10.3s\n",
      "100:\ttest: 0.8639328\tbest: 0.8639328 (100)\ttotal: 7.15s\tremaining: 7.01s\n",
      "150:\ttest: 0.8720717\tbest: 0.8720717 (150)\ttotal: 11.1s\tremaining: 3.61s\n",
      "199:\ttest: 0.8789680\tbest: 0.8789680 (199)\ttotal: 15.9s\tremaining: 0us\n",
      "\n",
      "bestTest = 0.8789680201\n",
      "bestIteration = 199\n",
      "\n",
      "Training on fold [1/3]\n",
      "0:\ttest: 0.5851690\tbest: 0.5851690 (0)\ttotal: 99.5ms\tremaining: 19.8s\n",
      "50:\ttest: 0.8429455\tbest: 0.8429455 (50)\ttotal: 4.51s\tremaining: 13.2s\n",
      "100:\ttest: 0.8499663\tbest: 0.8499663 (100)\ttotal: 7.84s\tremaining: 7.68s\n",
      "150:\ttest: 0.8653141\tbest: 0.8653141 (150)\ttotal: 11.3s\tremaining: 3.66s\n",
      "199:\ttest: 0.8710739\tbest: 0.8710762 (198)\ttotal: 15.5s\tremaining: 0us\n",
      "\n",
      "bestTest = 0.8710762327\n",
      "bestIteration = 198\n",
      "\n",
      "Training on fold [2/3]\n",
      "0:\ttest: 0.6678790\tbest: 0.6678790 (0)\ttotal: 66ms\tremaining: 13.1s\n",
      "50:\ttest: 0.8480649\tbest: 0.8480954 (49)\ttotal: 3.26s\tremaining: 9.52s\n",
      "100:\ttest: 0.8594755\tbest: 0.8594919 (98)\ttotal: 8.12s\tremaining: 7.96s\n",
      "150:\ttest: 0.8680448\tbest: 0.8680448 (150)\ttotal: 12.9s\tremaining: 4.2s\n",
      "199:\ttest: 0.8739684\tbest: 0.8739701 (198)\ttotal: 18.3s\tremaining: 0us\n",
      "\n",
      "bestTest = 0.873970085\n",
      "bestIteration = 198\n",
      "\n"
     ]
    }
   ],
   "source": [
    "cv_params = {\n",
    "    \"loss_function\": \"Logloss\",\n",
    "    \"eval_metric\": \"AUC\",\n",
    "    \"task_type\": \"CPU\",\n",
    "    \"n_estimators\": 400,\n",
    "    \"max_depth\": 6,\n",
    "    \"l2_leaf_reg\": 100,\n",
    "    \"thread_count\": 4,\n",
    "    \"verbose\": 20,\n",
    "    \"random_seed\": 42\n",
    "}\n",
    "\n",
    "cb_cv = cb.cv(\n",
    "    pool=dtrain,\n",
    "    params=cv_params,\n",
    "    num_boost_round=200,\n",
    "    stratified=True,\n",
    "    shuffle=True,\n",
    "    nfold=3,\n",
    "    verbose=50,\n",
    "    plot=True\n",
    ")"
   ]
  },
  {
   "cell_type": "code",
   "execution_count": 56,
   "id": "51596925",
   "metadata": {
    "scrolled": true
   },
   "outputs": [
    {
     "data": {
      "text/html": [
       "<div>\n",
       "<style scoped>\n",
       "    .dataframe tbody tr th:only-of-type {\n",
       "        vertical-align: middle;\n",
       "    }\n",
       "\n",
       "    .dataframe tbody tr th {\n",
       "        vertical-align: top;\n",
       "    }\n",
       "\n",
       "    .dataframe thead th {\n",
       "        text-align: right;\n",
       "    }\n",
       "</style>\n",
       "<table border=\"1\" class=\"dataframe\">\n",
       "  <thead>\n",
       "    <tr style=\"text-align: right;\">\n",
       "      <th></th>\n",
       "      <th>iterations</th>\n",
       "      <th>test-AUC-mean</th>\n",
       "      <th>test-AUC-std</th>\n",
       "      <th>test-Logloss-mean</th>\n",
       "      <th>test-Logloss-std</th>\n",
       "      <th>train-Logloss-mean</th>\n",
       "      <th>train-Logloss-std</th>\n",
       "    </tr>\n",
       "  </thead>\n",
       "  <tbody>\n",
       "    <tr>\n",
       "      <th>195</th>\n",
       "      <td>195</td>\n",
       "      <td>0.874285</td>\n",
       "      <td>0.003901</td>\n",
       "      <td>0.084240</td>\n",
       "      <td>0.001463</td>\n",
       "      <td>0.082834</td>\n",
       "      <td>0.000285</td>\n",
       "    </tr>\n",
       "    <tr>\n",
       "      <th>196</th>\n",
       "      <td>196</td>\n",
       "      <td>0.874341</td>\n",
       "      <td>0.003995</td>\n",
       "      <td>0.084203</td>\n",
       "      <td>0.001486</td>\n",
       "      <td>0.082793</td>\n",
       "      <td>0.000256</td>\n",
       "    </tr>\n",
       "    <tr>\n",
       "      <th>197</th>\n",
       "      <td>197</td>\n",
       "      <td>0.874420</td>\n",
       "      <td>0.003923</td>\n",
       "      <td>0.084167</td>\n",
       "      <td>0.001443</td>\n",
       "      <td>0.082753</td>\n",
       "      <td>0.000285</td>\n",
       "    </tr>\n",
       "    <tr>\n",
       "      <th>198</th>\n",
       "      <td>198</td>\n",
       "      <td>0.874665</td>\n",
       "      <td>0.003982</td>\n",
       "      <td>0.084082</td>\n",
       "      <td>0.001428</td>\n",
       "      <td>0.082662</td>\n",
       "      <td>0.000280</td>\n",
       "    </tr>\n",
       "    <tr>\n",
       "      <th>199</th>\n",
       "      <td>199</td>\n",
       "      <td>0.874670</td>\n",
       "      <td>0.003994</td>\n",
       "      <td>0.084066</td>\n",
       "      <td>0.001436</td>\n",
       "      <td>0.082641</td>\n",
       "      <td>0.000266</td>\n",
       "    </tr>\n",
       "  </tbody>\n",
       "</table>\n",
       "</div>"
      ],
      "text/plain": [
       "     iterations  test-AUC-mean  test-AUC-std  test-Logloss-mean  \\\n",
       "195         195       0.874285      0.003901           0.084240   \n",
       "196         196       0.874341      0.003995           0.084203   \n",
       "197         197       0.874420      0.003923           0.084167   \n",
       "198         198       0.874665      0.003982           0.084082   \n",
       "199         199       0.874670      0.003994           0.084066   \n",
       "\n",
       "     test-Logloss-std  train-Logloss-mean  train-Logloss-std  \n",
       "195          0.001463            0.082834           0.000285  \n",
       "196          0.001486            0.082793           0.000256  \n",
       "197          0.001443            0.082753           0.000285  \n",
       "198          0.001428            0.082662           0.000280  \n",
       "199          0.001436            0.082641           0.000266  "
      ]
     },
     "execution_count": 56,
     "metadata": {},
     "output_type": "execute_result"
    }
   ],
   "source": [
    "cb_cv_num = pd.DataFrame(cb_cv)\n",
    "cb_cv_num.to_csv('./cb_cv_num.csv', index=False)\n",
    "cb_cv_num.tail()"
   ]
  },
  {
   "cell_type": "markdown",
   "id": "5419e339",
   "metadata": {},
   "source": [
    "## Задание 8: обработать категориальные признаки любым способом (который вы знаете) и добавить их к данным. Выполнить задание 7."
   ]
  },
  {
   "cell_type": "code",
   "execution_count": 54,
   "id": "7553ba6a",
   "metadata": {},
   "outputs": [],
   "source": [
    "dtrain = cb.Pool(train_cat, target)\n",
    "dtest = cb.Pool(test_cat, target_test)"
   ]
  },
  {
   "cell_type": "code",
   "execution_count": 55,
   "id": "c489a51d",
   "metadata": {
    "scrolled": false
   },
   "outputs": [
    {
     "name": "stdout",
     "output_type": "stream",
     "text": [
      "0:\ttest: 0.6084198\tbest: 0.6084198 (0)\ttotal: 175ms\tremaining: 29m 13s\n",
      "200:\ttest: 0.8546811\tbest: 0.8546811 (200)\ttotal: 22.2s\tremaining: 18m 4s\n",
      "400:\ttest: 0.8617626\tbest: 0.8617640 (399)\ttotal: 43.6s\tremaining: 17m 24s\n",
      "Stopped by overfitting detector  (50 iterations wait)\n",
      "\n",
      "bestTest = 0.862553702\n",
      "bestIteration = 452\n",
      "\n",
      "Shrink model to first 453 iterations.\n"
     ]
    },
    {
     "data": {
      "text/plain": [
       "<catboost.core.CatBoostClassifier at 0x7f5e8fe735b0>"
      ]
     },
     "execution_count": 55,
     "metadata": {},
     "output_type": "execute_result"
    }
   ],
   "source": [
    "model_cat_cat = cb.CatBoostClassifier(**cb_params)\n",
    "model_cat_cat.fit(dtrain, eval_set=dtest)"
   ]
  },
  {
   "cell_type": "code",
   "execution_count": 59,
   "id": "4b95acdb",
   "metadata": {},
   "outputs": [
    {
     "data": {
      "application/vnd.jupyter.widget-view+json": {
       "model_id": "85090f4c086c4ae68099c47b754bfdd8",
       "version_major": 2,
       "version_minor": 0
      },
      "text/plain": [
       "MetricVisualizer(layout=Layout(align_self='stretch', height='500px'))"
      ]
     },
     "metadata": {},
     "output_type": "display_data"
    },
    {
     "name": "stdout",
     "output_type": "stream",
     "text": [
      "Training on fold [0/3]\n",
      "0:\ttest: 0.6583769\tbest: 0.6583769 (0)\ttotal: 143ms\tremaining: 28.5s\n",
      "50:\ttest: 0.8525929\tbest: 0.8528142 (49)\ttotal: 3.82s\tremaining: 11.2s\n",
      "100:\ttest: 0.8677660\tbest: 0.8677660 (100)\ttotal: 7.59s\tremaining: 7.44s\n",
      "150:\ttest: 0.8780291\tbest: 0.8780291 (150)\ttotal: 11.3s\tremaining: 3.65s\n",
      "199:\ttest: 0.8849165\tbest: 0.8849165 (199)\ttotal: 15.1s\tremaining: 0us\n",
      "\n",
      "bestTest = 0.8849164855\n",
      "bestIteration = 199\n",
      "\n",
      "Training on fold [1/3]\n",
      "0:\ttest: 0.6643746\tbest: 0.6643746 (0)\ttotal: 103ms\tremaining: 20.5s\n",
      "50:\ttest: 0.8481246\tbest: 0.8486802 (46)\ttotal: 3.5s\tremaining: 10.2s\n",
      "100:\ttest: 0.8596876\tbest: 0.8596876 (100)\ttotal: 6.86s\tremaining: 6.73s\n",
      "150:\ttest: 0.8670858\tbest: 0.8670858 (150)\ttotal: 10.5s\tremaining: 3.4s\n",
      "199:\ttest: 0.8739814\tbest: 0.8739814 (199)\ttotal: 14.1s\tremaining: 0us\n",
      "\n",
      "bestTest = 0.8739813688\n",
      "bestIteration = 199\n",
      "\n",
      "Training on fold [2/3]\n",
      "0:\ttest: 0.6340700\tbest: 0.6340700 (0)\ttotal: 73.8ms\tremaining: 14.7s\n",
      "50:\ttest: 0.8526315\tbest: 0.8526315 (50)\ttotal: 4.03s\tremaining: 11.8s\n",
      "100:\ttest: 0.8644669\tbest: 0.8650082 (96)\ttotal: 7.7s\tremaining: 7.54s\n",
      "150:\ttest: 0.8719737\tbest: 0.8719737 (150)\ttotal: 11.4s\tremaining: 3.69s\n",
      "199:\ttest: 0.8809661\tbest: 0.8809661 (199)\ttotal: 15.4s\tremaining: 0us\n",
      "\n",
      "bestTest = 0.8809660895\n",
      "bestIteration = 199\n",
      "\n"
     ]
    }
   ],
   "source": [
    "cb_cv_cat = cb.cv(\n",
    "    pool=dtrain,\n",
    "    params=cv_params,\n",
    "    num_boost_round=200,\n",
    "    stratified=True,\n",
    "    shuffle=True,\n",
    "    nfold=3,\n",
    "    verbose=50,\n",
    "    plot=True\n",
    ")"
   ]
  },
  {
   "cell_type": "code",
   "execution_count": 60,
   "id": "391bc8b4",
   "metadata": {},
   "outputs": [
    {
     "data": {
      "text/html": [
       "<div>\n",
       "<style scoped>\n",
       "    .dataframe tbody tr th:only-of-type {\n",
       "        vertical-align: middle;\n",
       "    }\n",
       "\n",
       "    .dataframe tbody tr th {\n",
       "        vertical-align: top;\n",
       "    }\n",
       "\n",
       "    .dataframe thead th {\n",
       "        text-align: right;\n",
       "    }\n",
       "</style>\n",
       "<table border=\"1\" class=\"dataframe\">\n",
       "  <thead>\n",
       "    <tr style=\"text-align: right;\">\n",
       "      <th></th>\n",
       "      <th>iterations</th>\n",
       "      <th>test-AUC-mean</th>\n",
       "      <th>test-AUC-std</th>\n",
       "      <th>test-Logloss-mean</th>\n",
       "      <th>test-Logloss-std</th>\n",
       "      <th>train-Logloss-mean</th>\n",
       "      <th>train-Logloss-std</th>\n",
       "    </tr>\n",
       "  </thead>\n",
       "  <tbody>\n",
       "    <tr>\n",
       "      <th>195</th>\n",
       "      <td>195</td>\n",
       "      <td>0.879586</td>\n",
       "      <td>0.005412</td>\n",
       "      <td>0.082948</td>\n",
       "      <td>0.001348</td>\n",
       "      <td>0.081521</td>\n",
       "      <td>0.000278</td>\n",
       "    </tr>\n",
       "    <tr>\n",
       "      <th>196</th>\n",
       "      <td>196</td>\n",
       "      <td>0.879631</td>\n",
       "      <td>0.005357</td>\n",
       "      <td>0.082926</td>\n",
       "      <td>0.001326</td>\n",
       "      <td>0.081492</td>\n",
       "      <td>0.000306</td>\n",
       "    </tr>\n",
       "    <tr>\n",
       "      <th>197</th>\n",
       "      <td>197</td>\n",
       "      <td>0.879664</td>\n",
       "      <td>0.005395</td>\n",
       "      <td>0.082896</td>\n",
       "      <td>0.001343</td>\n",
       "      <td>0.081459</td>\n",
       "      <td>0.000300</td>\n",
       "    </tr>\n",
       "    <tr>\n",
       "      <th>198</th>\n",
       "      <td>198</td>\n",
       "      <td>0.879828</td>\n",
       "      <td>0.005476</td>\n",
       "      <td>0.082841</td>\n",
       "      <td>0.001377</td>\n",
       "      <td>0.081392</td>\n",
       "      <td>0.000247</td>\n",
       "    </tr>\n",
       "    <tr>\n",
       "      <th>199</th>\n",
       "      <td>199</td>\n",
       "      <td>0.879955</td>\n",
       "      <td>0.005537</td>\n",
       "      <td>0.082795</td>\n",
       "      <td>0.001395</td>\n",
       "      <td>0.081346</td>\n",
       "      <td>0.000232</td>\n",
       "    </tr>\n",
       "  </tbody>\n",
       "</table>\n",
       "</div>"
      ],
      "text/plain": [
       "     iterations  test-AUC-mean  test-AUC-std  test-Logloss-mean  \\\n",
       "195         195       0.879586      0.005412           0.082948   \n",
       "196         196       0.879631      0.005357           0.082926   \n",
       "197         197       0.879664      0.005395           0.082896   \n",
       "198         198       0.879828      0.005476           0.082841   \n",
       "199         199       0.879955      0.005537           0.082795   \n",
       "\n",
       "     test-Logloss-std  train-Logloss-mean  train-Logloss-std  \n",
       "195          0.001348            0.081521           0.000278  \n",
       "196          0.001326            0.081492           0.000306  \n",
       "197          0.001343            0.081459           0.000300  \n",
       "198          0.001377            0.081392           0.000247  \n",
       "199          0.001395            0.081346           0.000232  "
      ]
     },
     "execution_count": 60,
     "metadata": {},
     "output_type": "execute_result"
    }
   ],
   "source": [
    "cb_cv_cat = pd.DataFrame(cb_cv_cat)\n",
    "cb_cv_cat.to_csv('./cb_cv_cat.csv', index=False)\n",
    "cb_cv_cat.tail()"
   ]
  },
  {
   "cell_type": "markdown",
   "id": "e5e9cc7c",
   "metadata": {},
   "source": [
    "## Задание 9: обработать категориальные признаки встроенным методом в CatBoost. Выполнить задание 7. Сделать выводы о качестве работы алгоритма, по сравнению с пунктом 8."
   ]
  },
  {
   "cell_type": "code",
   "execution_count": 61,
   "id": "4fd1a4d6",
   "metadata": {},
   "outputs": [],
   "source": [
    "train_catboost = train.copy()\n",
    "test_catboost = test.copy()"
   ]
  },
  {
   "cell_type": "code",
   "execution_count": 62,
   "id": "141361b7",
   "metadata": {},
   "outputs": [],
   "source": [
    "for cat in categorical_features:\n",
    "    train_catboost[cat] = train_catboost[cat].astype('str')\n",
    "    test_catboost[cat] = test_catboost[cat].astype('str')"
   ]
  },
  {
   "cell_type": "code",
   "execution_count": 63,
   "id": "d1eea968",
   "metadata": {},
   "outputs": [
    {
     "data": {
      "text/plain": [
       "(180000, 392)"
      ]
     },
     "execution_count": 63,
     "metadata": {},
     "output_type": "execute_result"
    }
   ],
   "source": [
    "train_catboost.shape"
   ]
  },
  {
   "cell_type": "code",
   "execution_count": 64,
   "id": "fdd5524c",
   "metadata": {},
   "outputs": [
    {
     "data": {
      "text/plain": [
       "(100001, 392)"
      ]
     },
     "execution_count": 64,
     "metadata": {},
     "output_type": "execute_result"
    }
   ],
   "source": [
    "test_catboost.shape"
   ]
  },
  {
   "cell_type": "code",
   "execution_count": 65,
   "id": "7b379742",
   "metadata": {},
   "outputs": [],
   "source": [
    "train_pool = cb.Pool(train_catboost, target, cat_features = cat_list)\n",
    "valid_pool = cb.Pool(test_catboost, target_test, cat_features = cat_list)"
   ]
  },
  {
   "cell_type": "code",
   "execution_count": 66,
   "id": "5fc1e7b6",
   "metadata": {},
   "outputs": [
    {
     "name": "stdout",
     "output_type": "stream",
     "text": [
      "0:\ttest: 0.5582899\tbest: 0.5582899 (0)\ttotal: 1.1s\tremaining: 3h 4m 6s\n",
      "200:\ttest: 0.8551593\tbest: 0.8551593 (200)\ttotal: 1m 25s\tremaining: 1h 9m 20s\n",
      "400:\ttest: 0.8622676\tbest: 0.8622676 (400)\ttotal: 2m 49s\tremaining: 1h 7m 40s\n",
      "600:\ttest: 0.8641731\tbest: 0.8642655 (580)\ttotal: 4m 10s\tremaining: 1h 5m 13s\n",
      "Stopped by overfitting detector  (50 iterations wait)\n",
      "\n",
      "bestTest = 0.8642654794\n",
      "bestIteration = 580\n",
      "\n",
      "Shrink model to first 581 iterations.\n"
     ]
    },
    {
     "data": {
      "text/plain": [
       "<catboost.core.CatBoostClassifier at 0x7f5e478b5e40>"
      ]
     },
     "execution_count": 66,
     "metadata": {},
     "output_type": "execute_result"
    }
   ],
   "source": [
    "model_cat_cat_in = cb.CatBoostClassifier(**cb_params)\n",
    "model_cat_cat_in.fit(train_pool, eval_set=valid_pool)"
   ]
  },
  {
   "cell_type": "code",
   "execution_count": 67,
   "id": "5a99c832",
   "metadata": {},
   "outputs": [
    {
     "data": {
      "application/vnd.jupyter.widget-view+json": {
       "model_id": "442d2a24dbae4fd480cc38120bf5b151",
       "version_major": 2,
       "version_minor": 0
      },
      "text/plain": [
       "MetricVisualizer(layout=Layout(align_self='stretch', height='500px'))"
      ]
     },
     "metadata": {},
     "output_type": "display_data"
    },
    {
     "name": "stdout",
     "output_type": "stream",
     "text": [
      "Training on fold [0/3]\n",
      "0:\ttest: 0.6583769\tbest: 0.6583769 (0)\ttotal: 70.1ms\tremaining: 14s\n",
      "50:\ttest: 0.8525929\tbest: 0.8528142 (49)\ttotal: 4.01s\tremaining: 11.7s\n",
      "100:\ttest: 0.8677660\tbest: 0.8677660 (100)\ttotal: 8.45s\tremaining: 8.28s\n",
      "150:\ttest: 0.8780291\tbest: 0.8780291 (150)\ttotal: 12.9s\tremaining: 4.19s\n",
      "199:\ttest: 0.8849165\tbest: 0.8849165 (199)\ttotal: 17.8s\tremaining: 0us\n",
      "\n",
      "bestTest = 0.8849164855\n",
      "bestIteration = 199\n",
      "\n",
      "Training on fold [1/3]\n",
      "0:\ttest: 0.6643746\tbest: 0.6643746 (0)\ttotal: 83.5ms\tremaining: 16.6s\n",
      "50:\ttest: 0.8481246\tbest: 0.8486802 (46)\ttotal: 4.04s\tremaining: 11.8s\n",
      "100:\ttest: 0.8596876\tbest: 0.8596876 (100)\ttotal: 8.2s\tremaining: 8.04s\n",
      "150:\ttest: 0.8670858\tbest: 0.8670858 (150)\ttotal: 12.6s\tremaining: 4.09s\n",
      "199:\ttest: 0.8739814\tbest: 0.8739814 (199)\ttotal: 17.3s\tremaining: 0us\n",
      "\n",
      "bestTest = 0.8739813688\n",
      "bestIteration = 199\n",
      "\n",
      "Training on fold [2/3]\n",
      "0:\ttest: 0.6340700\tbest: 0.6340700 (0)\ttotal: 83.6ms\tremaining: 16.6s\n",
      "50:\ttest: 0.8526315\tbest: 0.8526315 (50)\ttotal: 3.91s\tremaining: 11.4s\n",
      "100:\ttest: 0.8644669\tbest: 0.8650082 (96)\ttotal: 8.08s\tremaining: 7.92s\n",
      "150:\ttest: 0.8719737\tbest: 0.8719737 (150)\ttotal: 12.8s\tremaining: 4.16s\n",
      "199:\ttest: 0.8809661\tbest: 0.8809661 (199)\ttotal: 17.4s\tremaining: 0us\n",
      "\n",
      "bestTest = 0.8809660895\n",
      "bestIteration = 199\n",
      "\n"
     ]
    }
   ],
   "source": [
    "cb_cv_cat_in = cb.cv(\n",
    "    pool=dtrain,\n",
    "    params=cv_params,\n",
    "    num_boost_round=200,\n",
    "    stratified=True,\n",
    "    shuffle=True,\n",
    "    nfold=3,\n",
    "    verbose=50,\n",
    "    plot=True\n",
    ")"
   ]
  },
  {
   "cell_type": "code",
   "execution_count": 68,
   "id": "e2b634dd",
   "metadata": {},
   "outputs": [
    {
     "data": {
      "text/html": [
       "<div>\n",
       "<style scoped>\n",
       "    .dataframe tbody tr th:only-of-type {\n",
       "        vertical-align: middle;\n",
       "    }\n",
       "\n",
       "    .dataframe tbody tr th {\n",
       "        vertical-align: top;\n",
       "    }\n",
       "\n",
       "    .dataframe thead th {\n",
       "        text-align: right;\n",
       "    }\n",
       "</style>\n",
       "<table border=\"1\" class=\"dataframe\">\n",
       "  <thead>\n",
       "    <tr style=\"text-align: right;\">\n",
       "      <th></th>\n",
       "      <th>iterations</th>\n",
       "      <th>test-AUC-mean</th>\n",
       "      <th>test-AUC-std</th>\n",
       "      <th>test-Logloss-mean</th>\n",
       "      <th>test-Logloss-std</th>\n",
       "      <th>train-Logloss-mean</th>\n",
       "      <th>train-Logloss-std</th>\n",
       "    </tr>\n",
       "  </thead>\n",
       "  <tbody>\n",
       "    <tr>\n",
       "      <th>195</th>\n",
       "      <td>195</td>\n",
       "      <td>0.879586</td>\n",
       "      <td>0.005412</td>\n",
       "      <td>0.082948</td>\n",
       "      <td>0.001348</td>\n",
       "      <td>0.081521</td>\n",
       "      <td>0.000278</td>\n",
       "    </tr>\n",
       "    <tr>\n",
       "      <th>196</th>\n",
       "      <td>196</td>\n",
       "      <td>0.879631</td>\n",
       "      <td>0.005357</td>\n",
       "      <td>0.082926</td>\n",
       "      <td>0.001326</td>\n",
       "      <td>0.081492</td>\n",
       "      <td>0.000306</td>\n",
       "    </tr>\n",
       "    <tr>\n",
       "      <th>197</th>\n",
       "      <td>197</td>\n",
       "      <td>0.879664</td>\n",
       "      <td>0.005395</td>\n",
       "      <td>0.082896</td>\n",
       "      <td>0.001343</td>\n",
       "      <td>0.081459</td>\n",
       "      <td>0.000300</td>\n",
       "    </tr>\n",
       "    <tr>\n",
       "      <th>198</th>\n",
       "      <td>198</td>\n",
       "      <td>0.879828</td>\n",
       "      <td>0.005476</td>\n",
       "      <td>0.082841</td>\n",
       "      <td>0.001377</td>\n",
       "      <td>0.081392</td>\n",
       "      <td>0.000247</td>\n",
       "    </tr>\n",
       "    <tr>\n",
       "      <th>199</th>\n",
       "      <td>199</td>\n",
       "      <td>0.879955</td>\n",
       "      <td>0.005537</td>\n",
       "      <td>0.082795</td>\n",
       "      <td>0.001395</td>\n",
       "      <td>0.081346</td>\n",
       "      <td>0.000232</td>\n",
       "    </tr>\n",
       "  </tbody>\n",
       "</table>\n",
       "</div>"
      ],
      "text/plain": [
       "     iterations  test-AUC-mean  test-AUC-std  test-Logloss-mean  \\\n",
       "195         195       0.879586      0.005412           0.082948   \n",
       "196         196       0.879631      0.005357           0.082926   \n",
       "197         197       0.879664      0.005395           0.082896   \n",
       "198         198       0.879828      0.005476           0.082841   \n",
       "199         199       0.879955      0.005537           0.082795   \n",
       "\n",
       "     test-Logloss-std  train-Logloss-mean  train-Logloss-std  \n",
       "195          0.001348            0.081521           0.000278  \n",
       "196          0.001326            0.081492           0.000306  \n",
       "197          0.001343            0.081459           0.000300  \n",
       "198          0.001377            0.081392           0.000247  \n",
       "199          0.001395            0.081346           0.000232  "
      ]
     },
     "execution_count": 68,
     "metadata": {},
     "output_type": "execute_result"
    }
   ],
   "source": [
    "cb_cv_cat_in = pd.DataFrame(cb_cv_cat)\n",
    "cb_cv_cat_in.to_csv('./cb_cv_cat_in.csv', index=False)\n",
    "cb_cv_cat_in.tail()"
   ]
  },
  {
   "cell_type": "markdown",
   "id": "8524b7b8",
   "metadata": {},
   "source": [
    "## Задание 10: построить ROC-кривую для всех построенных алгоритмов на обучающей и тестовой выборке. Сделать выводы о работе алгоритмов с точки зрения качества на тестовой выборке и с точки зрения переобучения."
   ]
  },
  {
   "cell_type": "code",
   "execution_count": 19,
   "id": "81ba19bc",
   "metadata": {},
   "outputs": [],
   "source": [
    "cb_cv_cat = pd.read_csv('./cb_cv_cat.csv')\n",
    "cb_cv_cat_in = pd.read_csv('./cb_cv_cat_in.csv')\n",
    "cb_cv_num = pd.read_csv('./cb_cv_num.csv')\n",
    "\n",
    "lgb_cat_cv = pd.read_csv('./lgb_cat_cv.csv')\n",
    "lgb_num_cv = pd.read_csv('./lgb_num_cv.csv')\n",
    "\n",
    "xgb_cv_cat = pd.read_csv('./xgb_cv_cat.csv')\n",
    "xgb_cv_num = pd.read_csv('./xgb_cv_num.csv')"
   ]
  },
  {
   "cell_type": "code",
   "execution_count": 20,
   "id": "90c3786b",
   "metadata": {},
   "outputs": [
    {
     "data": {
      "text/plain": [
       "<matplotlib.legend.Legend at 0x7f673b8566e0>"
      ]
     },
     "execution_count": 20,
     "metadata": {},
     "output_type": "execute_result"
    },
    {
     "data": {
      "image/png": "[encoded data removed]",
      "text/plain": [
       "<Figure size 1152x576 with 1 Axes>"
      ]
     },
     "metadata": {
      "needs_background": "light"
     },
     "output_type": "display_data"
    }
   ],
   "source": [
    "plt.figure(figsize=(16, 8))\n",
    "plt.title('ROC-AUC plot for all algorithms')\n",
    "\n",
    "cb_cv_num['test-AUC-mean'].plot(label='cb_cv_num', style='-')\n",
    "cb_cv_cat['test-AUC-mean'].plot(label='cb_cv_cat', style='-')\n",
    "cb_cv_cat_in['test-AUC-mean'].plot(label='cb_cv_cat_in', style='-')\n",
    "\n",
    "lgb_num_cv['auc-mean'].plot(label='lgb_cv_num', style='--')\n",
    "lgb_cat_cv['auc-mean'].plot(label='lgb_cv_cat', style='--')\n",
    "\n",
    "\n",
    "xgb_cv_cat['train-auc-mean'].plot(label='xgb_cv_cat - train', style='-.')\n",
    "xgb_cv_cat['test-auc-mean'].plot(label='xgb_cv_cat - test', style='-.')\n",
    "xgb_cv_num['train-auc-mean'].plot(label='xgb_cv_num - train', style='-.')\n",
    "xgb_cv_num['test-auc-mean'].plot(label='xgb_cv_num - test', style='-.')\n",
    "\n",
    "plt.xlabel('iteration')\n",
    "plt.ylabel('ROC-AUC')\n",
    "plt.legend()"
   ]
  }
 ],
 "metadata": {
  "kernelspec": {
   "display_name": "Python 3 (ipykernel)",
   "language": "python",
   "name": "python3"
  },
  "language_info": {
   "codemirror_mode": {
    "name": "ipython",
    "version": 3
   },
   "file_extension": ".py",
   "mimetype": "text/x-python",
   "name": "python",
   "nbconvert_exporter": "python",
   "pygments_lexer": "ipython3",
   "version": "3.10.4"
  }
 },
 "nbformat": 4,
 "nbformat_minor": 5
}
